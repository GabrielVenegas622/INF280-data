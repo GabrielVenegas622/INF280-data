{
 "cells": [
  {
   "attachments": {},
   "cell_type": "markdown",
   "metadata": {},
   "source": [
    "# Hábitos y calidad del Sueño "
   ]
  },
  {
   "cell_type": "markdown",
   "metadata": {},
   "source": [
    "Con estos datos ofrece una visión detallada de la relación entre el sueño, los hábitos diarios y la salud. Al explorar variables como la duración y calidad del sueño, niveles de actividad física y estrés, así como la salud cardiovascular y la presencia de trastornos del sueño, este conjunto de datos es útil para entender cómo estos factores afectan nuestra calidad de vida.\n",
    "\n",
    "Algunas preguntas interesantes a resolver podrían ser: ¿En qué factores debe poner atención el desarrollo de un método para mejorar la calidad del sueño? ¿De qué manera repercute la calidad del sueño en la salud del sujeto?\n"
   ]
  },
  {
   "attachments": {},
   "cell_type": "markdown",
   "metadata": {},
   "source": [
    "## *features*\n",
    "\n",
    "### **Características Clave del Conjunto de Datos:**\n",
    "\n",
    "- **Métricas de Sueño Integral:** Explora la duración del sueño, la calidad y los factores que influyen en los patrones de sueño.\n",
    "  \n",
    "- **Factores de Estilo de Vida:** Analiza los niveles de actividad física, los niveles de estrés y las categorías de IMC `(BMI)`.\n",
    "  \n",
    "- **Salud Cardiovascular:** Examinar mediciones de presión arterial y ritmo cardíaco.\n",
    "  \n",
    "- **Análisis de Trastornos del Sueño:** Identificar la presencia de trastornos del sueño como Insomnio y Apnea del Sueño.\n",
    "\n",
    "### **Columnas del Conjunto de Datos:**\n",
    "\n",
    "- **ID de Persona (`Person ID`):** Un identificador para cada individuo.\n",
    "  \n",
    "- **Género (`Gender`):** El género de la persona toma valores de: `Male/Female`.\n",
    "  \n",
    "- **Edad (`Age`):** La edad de la persona en años.\n",
    "  \n",
    "- **Ocupación (`Occupation`):** La ocupación o profesión de la persona. La variable toma los sigueintes valores: `'Software Engineer' 'Doctor' 'Sales Representative' 'Teacher' 'Nurse'\n",
    " 'Engineer' 'Accountant' 'Scientist' 'Lawyer' 'Salesperson' 'Manager'`\n",
    "  \n",
    "- **Duración del Sueño (`horas`) (`Sleep Duration` `(hours)`):** El número de horas que la persona duerme por día. Ejemplo 30 minutos en la columna estaría escrito como `1.5` horas\n",
    "  \n",
    "- **Calidad del Sueño (escala: 1-10) (`Quality of Sleep` `(scale: 1-10)`):** Una calificación subjetiva de la calidad del sueño, que va de `1` a `10`.\n",
    "  \n",
    "- **Nivel de Actividad Física (minutos/día) (`Physical Activity Level` `(minutes/day)`):** El número de minutos que la persona dedica a la actividad física diaria.\n",
    "  \n",
    "- **Nivel de Estrés (escala: 1-10) (`Stress Level` `(scale: 1-10)`):** Una calificación subjetiva del nivel de estrés experimentado por la persona, que va de 1 a 10.\n",
    "  \n",
    "- **Categoría de IMC (`BMI Category`):** La categoría de IMC de la persona. Por ejemplo, `'Overweight' 'Normal' 'Obese' 'Normal Weight'`.\n",
    "  \n",
    "- **Presión Arterial (sistólica/diastólica) (`Blood Pressure` `(systolic/diastolic)`):** La medición de la presión arterial de la persona, indicada como presión sistólica sobre presión diastólica.\n",
    "  \n",
    "- **Ritmo Cardíaco (ppm) (`Heart Rate` `(bpm)`):** La frecuencia cardíaca en reposo de la persona en pulsaciones por minuto.\n",
    "  \n",
    "- **Pasos Diarios (`Daily Steps`):** El número de pasos que la persona da por día.\n",
    "  \n",
    "- **Trastorno del Sueño (`Sleep Disorder`):** La presencia o ausencia de un trastorno del sueño en la persona (None, Insomnia, Sleep Apnea).\n",
    "\n",
    "**Detalles sobre la Columna de Trastorno del Sueño (`Sleep Disorder`):**\n",
    "\n",
    "`None`: El individuo no presenta ningún trastorno del sueño específico.\n",
    "  \n",
    " `Insomnia`:  El individuo experimenta dificultad para conciliar el sueño o mantenerse dormido, lo que conduce a un sueño insuficiente o de mala calidad.\n",
    "  \n",
    "`Sleep Apnea`: El individuo sufre pausas en la respiración durante el sueño, lo que resulta en patrones de sueño interrumpidos y posibles riesgos para la salud.\n",
    "\n",
    "\n",
    "Cuando se encuentran celdas con el valor `NaN`, indica que la información en esas celdas no está disponible. Se recomienda filtrar estas celdas para garantizar la integridad de los datos.\n"
   ]
  }
 ],
 "metadata": {
  "kernelspec": {
   "display_name": "Python 3",
   "language": "python",
   "name": "python3"
  },
  "language_info": {
   "codemirror_mode": {
    "name": "ipython",
    "version": 3
   },
   "file_extension": ".py",
   "mimetype": "text/x-python",
   "name": "python",
   "nbconvert_exporter": "python",
   "pygments_lexer": "ipython3",
   "version": "3.12.3"
  },
  "orig_nbformat": 4,
  "vscode": {
   "interpreter": {
    "hash": "8a5edab282632443219e051e4ade2d1d5bbc671c781051bf1437897cbdfea0f1"
   }
  }
 },
 "nbformat": 4,
 "nbformat_minor": 2
}
