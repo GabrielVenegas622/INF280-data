{
 "cells": [
  {
   "cell_type": "markdown",
   "metadata": {},
   "source": [
    "# Factores económicos y Tasa de suicidios\n",
    "\n",
    "El análisis de las tendencias globales de suicidio es esencial para comprender y abordar este grave problema de salud pública a nivel mundial. Estudiar las tasas de suicidio crudas y estandarizadas por edad, junto con factores\n",
    "económicos y geográficos, nos permite identificar patrones y tendencias significativas. Esto es crucial para desarrollar estrategias efectivas de prevención y\n",
    "tratamiento, así como para aumentar la conciencia sobre la importancia de la\n",
    "salud mental a nivel global.\n",
    "Algunas preguntas interesantes a resolver podrían ser: ¿Qué diferencias regionales existen en las tendencias de suicidio, y cuáles son los posibles factores\n",
    "subyacentes?\n",
    "\n"
   ]
  },
  {
   "cell_type": "markdown",
   "metadata": {},
   "source": [
    "# *features*\n",
    "\n",
    "**Características adicionales del Conjunto de Datos:** \n",
    "\n",
    "Este conjunto de datos ofrece una visión integral de las tendencias globales de suicidio desde 1990 hasta 2022, centrándose en las tasas de suicidio crudas. Proporciona datos sobre región, país, año y métricas clave de suicidio como:\n",
    "\n",
    "- **Recuentos de Suicidios:** El número total de suicidios registrados.\n",
    "  \n",
    "- **Porcentaje de Muertes Específicas por Causa:** El porcentaje de muertes totales atribuidas al suicidio. Esto se calcula dividiendo el número total de muertes por suicidio entre las muertes causadas por otras causas, incluido el suicidio, y multiplicando por 100.\n",
    "  \n",
    "- **Tasa de Muerte por 100,000 Habitantes (Cruda):** El número no ajustado de suicidios por cada 100,000 personas en la población.\n",
    "\n",
    "Factores económicos como el PIB, el PIB per cápita, el INB, el INB per cápita, las tasas de inflación y las relaciones de empleo-población se incluyen para explorar posibles influencias socioeconómicas en las tasas de suicidio.\n",
    "\n",
    "Por favor, ten en cuenta: Las tasas de muerte crudas pueden ser influenciadas por las estructuras de edad de la población. Considera esta limitación al analizar las tendencias entre países o períodos de tiempo.\n",
    "## **Columnas**\n",
    "\n",
    "### **Continente:**\n",
    "\n",
    "- **Código de continente (`RegionCode`):** El código que identifica la región geográfica a la que pertenece el país. Ejemplo: `EU` (Europa), `AF` (África)\n",
    "  \n",
    "- **Nombre del continente (`RegionName`):** El nombre de la región geográfica a la que pertenece el país. Ejemplo: `Europe` (Europa), `Africa` (África)\n",
    "\n",
    "### **País:**\n",
    "\n",
    "- **Código de País (`CountryCode`):** El código que identifica el país. Ejemplo: `ALB` (Albania), `MYT` (Mayotte), `REU` (Reunión)\n",
    "\n",
    "- **Nombre de País (`CountryName`):** El nombre del país. Ejemplo: `Albania`, `Mayotte`, Reunión\n",
    "\n",
    "### **Datos Demográficos:**\n",
    "\n",
    "- **Año (`Year`):** El año en el que se registraron los datos. Ejemplo: `1992, 1993, 2015, 2016 hasta 2022`\n",
    "  \n",
    "- **Sexo (`Sex`):** El sexo de la población para la que se registraron los datos (Masculino o Femenino). Ejemplo: `Male` (Masculino), `Female` (Femenino)\n",
    "\n",
    "- **Número de Suicidios (`SuicideCount`):** El número de suicidios registrados para el año, sexo y país específicos. Ejemplo: `33, 14, 0, 68`\n",
    "\n",
    "### **Estadísticas de Muertes:**\n",
    "\n",
    "- **Porcentaje de Muertes Específicas (`CauseSpecificDeathPercentage`):** El porcentaje de muertes específicas por causa en relación con el total de muertes. Ejemplo: `0.331959, 0.191860, 0.000000, 2.636681`\n",
    "\n",
    "- **Tasa de Muerte Estándar (`StdDeathRate`):** La tasa de muerte estándar, que puede estar ajustada para comparaciones internacionales. Ejemplo: `2.335802, 0.866420, 0.000000, 15.399045`\n",
    "\n",
    "- **Tasa de Muerte por 100,000 Habitantes (`DeathRatePer100K`):** La tasa de muerte por cada 100,000 habitantes. Ejemplo: `2.076386, 0.874563, 0.000000, 16.144005`\n",
    "\n",
    "### **Economía:**\n",
    "\n",
    "- **Población (`Population`):** La población total del país en ese año. Ejemplo: `3247039.0`, `NaN` (no disponible)\n",
    "\n",
    "- **Producto Interno Bruto (`GDP`):** El Producto Interno Bruto (Gross Domestic Product) del país para ese año. Ejemplo: `6.521750e+08` (652,175,000), `NaN` (no disponible)\n",
    "\n",
    "- **Producto Interno Bruto Per Cápita (`GDPPerCapita`):** El Producto Interno Bruto (Gross Domestic Product) per cápita del país para ese año. Ejemplo: `200.852220`, `NaN` (no disponible)\n",
    "\n",
    "- **Ingreso Nacional Bruto (`GNI`):** El Ingreso Nacional Bruto (Gross National Income) del país para ese año. Ejemplo: `9.061842e+08` (906,184,200), `NaN` (no disponible)\n",
    "\n",
    "- **Ingreso Nacional Bruto Per Cápita (`GNIPerCapita`):** El Ingreso Nacional Bruto (Gross National Income) per cápita del país para ese año. Ejemplo: `1740.0`, `NaN` (no disponible)\n",
    "\n",
    "### **Otros Datos:**\n",
    "\n",
    "- **Tasa de Inflación (`InflationRate`):** La tasa de inflación del país para ese año. Ejemplo: `226.005421`, `NaN` (no disponible)\n",
    "\n",
    "- **Proporción de Empleo Poblacional (`EmploymentPopulationRatio`):** La proporción de la población económicamente activa en edad laboral que está empleada, expresada como porcentaje. Ejemplo: `45.315`, `NaN` (no disponible)\n"
   ]
  },
  {
   "cell_type": "markdown",
   "metadata": {},
   "source": []
  }
 ],
 "metadata": {
  "kernelspec": {
   "display_name": "Python 3",
   "language": "python",
   "name": "python3"
  },
  "language_info": {
   "codemirror_mode": {
    "name": "ipython",
    "version": 3
   },
   "file_extension": ".py",
   "mimetype": "text/x-python",
   "name": "python",
   "nbconvert_exporter": "python",
   "pygments_lexer": "ipython3",
   "version": "3.12.3"
  }
 },
 "nbformat": 4,
 "nbformat_minor": 2
}
